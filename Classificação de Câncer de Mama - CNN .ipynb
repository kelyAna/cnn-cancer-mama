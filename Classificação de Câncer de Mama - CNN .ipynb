{
 "cells": [
  {
   "cell_type": "markdown",
   "metadata": {},
   "source": [
    "## Uso de Aprendizado Profundo na classificação de imagens de histopatológicas"
   ]
  },
  {
   "cell_type": "markdown",
   "metadata": {},
   "source": [
    "### Contextualização"
   ]
  },
  {
   "cell_type": "markdown",
   "metadata": {},
   "source": [
    "   <p>Segundo o INCA(Instituto Nacional de Câncer) (2020), o <b>Câncer de Mama</b> é uma doença causada pela multiplicação desordenada de células da mama. Esse processo gera células anormais que se multiplicam, formando um tumor. Neste contexto, há vários tipos de câncer de mama. Ocasionando, uma possibilidade de evolução de diferentes formas.</p>\n",
    "    <p>Assim, alguns tipos podem apresentar um rápido desenvolvimento, enquanto outros podem crescem de forma mais lenta. A diferença entre tais comportamentos se deve a características próprias de cada tumor.Além disso, este tipo de  câncer também acomete homens, sendo de ocorrência rara, representando apenas 1% do total de casos da doença.</p>\n",
    "    <p> Ademais, a <b>Histopatologia</b> ou <b>histologia patológica</b> é o estudo de como uma doença específica afeta um conjunto de células. Seu nome é formado da combinação entre três palavras gregas: 'histo', 'pathos' e 'logia'. Geralmente, é feito um estudo da biópsia usando um microscópio e corantes.\n",
    "    Em análise, esse trabalho irá realizar classificação binária de imagens histopatopatológicas, utilizando Redes Neurais Convolucionais e técnicas de Aprendizado profundo. \n",
    "    </p>\n"
   ]
  },
  {
   "cell_type": "markdown",
   "metadata": {},
   "source": [
    "### Conjunto de dados - BreaKHis"
   ]
  },
  {
   "cell_type": "markdown",
   "metadata": {},
   "source": [
    "<p>O conjunto de dados é oriundo da plataforma Kaggle. Onde, contém imagens de biópsia microscópica de tumores benignos e malignos da mama. Neste conjunto de dados foram feitas algumas modificações, como: separar dados de treinamento e dados de teste com pastas diferentes, cada arquivo representa partes diferentes de cada amostra. Além disso, há apenas uma amostra parcial do zoom óptico de 400x, para mais interesse no conjunto de dados, consulte este artigo: </p>\n",
    "\n",
    "<p>FA Spanhol, LS Oliveira, C. Petitjean and L. Heutte, \"A Dataset for Breast Cancer Histopathological Image Classification,\" in IEEE Transactions on Biomedical Engineering, vol. 63, no. 7, pp. 1455-1462, July 2016, doi: 10.1109 / TBME.2015.2496264. </p>\n"
   ]
  },
  {
   "cell_type": "markdown",
   "metadata": {},
   "source": [
    "<img src='BreaKHis 400X/test/malignant/SOB_M_DC-14-10926-400-004.png' width=\"300px\" align=\"center\"> \n",
    "<center>Fonte: Dataset BreaKHis.</center>\n"
   ]
  },
  {
   "cell_type": "markdown",
   "metadata": {},
   "source": [
    "### Codificação "
   ]
  },
  {
   "cell_type": "markdown",
   "metadata": {},
   "source": [
    "#### Importação iniciais"
   ]
  },
  {
   "cell_type": "code",
   "execution_count": 38,
   "metadata": {},
   "outputs": [],
   "source": [
    "import numpy as np\n",
    "from keras.models import Sequential\n",
    "from keras.layers import Conv2D, MaxPooling2D, Flatten, Dense, Dropout\n",
    "from keras.layers.normalization import  BatchNormalization\n",
    "from keras.preprocessing.image import ImageDataGenerator\n",
    "import matplotlib.pyplot as plt\n",
    "from sklearn import metrics\n",
    "import pandas as pd"
   ]
  },
  {
   "cell_type": "markdown",
   "metadata": {},
   "source": [
    "O Keras é uma biblioteca de rede neural de código aberto escrita em Python, que roda em cima de TensorFlow. Dentre as importações:\n",
    "* **Sequencial** - fornece recursos de treinamento e inferência neste modelo;\n",
    "* **Conv2D** - cria um kernel de convolução que é convolvido com a entrada da camada para produzir um tensor de saídas;\n",
    "* **MaxPooling2D** - é um tipo de operação que normalmente é adicionado a CNNs seguindo camadas convolucionais individuais;\n",
    "* **Flatten** - remodela os dados de entrada em um formato adequado para as camadas convolucionais;\n",
    "* **Dense** - calcula uma função de ativação em conjunto com os dados de entrada e pesos;\n",
    "* **Dropout** -  define aleatoriamente as unidades de entrada para 0 com uma frequência de taxa em cada etapa durante o tempo de treinamento, o que ajuda a evitar overfitting;\n",
    "* **BatchNormalization** - aplica uma transformação que mantém a saída média próxima a 0 e o desvio padrão da saída próximo a 1;\n",
    "* **ImageGenerator** - transforma os dados originais aleatoriamente e retorna apenas os dados novos transformados."
   ]
  },
  {
   "cell_type": "markdown",
   "metadata": {},
   "source": [
    "#### Definição da Rede Neural"
   ]
  },
  {
   "cell_type": "code",
   "execution_count": 2,
   "metadata": {},
   "outputs": [
    {
     "name": "stdout",
     "output_type": "stream",
     "text": [
      "WARNING:tensorflow:From /home/ana/anaconda3/lib/python3.7/site-packages/tensorflow/python/framework/op_def_library.py:263: colocate_with (from tensorflow.python.framework.ops) is deprecated and will be removed in a future version.\n",
      "Instructions for updating:\n",
      "Colocations handled automatically by placer.\n",
      "WARNING:tensorflow:From /home/ana/anaconda3/lib/python3.7/site-packages/keras/backend/tensorflow_backend.py:1264: calling reduce_prod_v1 (from tensorflow.python.ops.math_ops) with keep_dims is deprecated and will be removed in a future version.\n",
      "Instructions for updating:\n",
      "keep_dims is deprecated, use keepdims instead\n"
     ]
    }
   ],
   "source": [
    "classificador = Sequential()\n",
    "classificador.add(Conv2D(64, (3,3), input_shape = (64, 64, 3), activation = 'relu'))\n",
    "classificador.add(BatchNormalization())\n",
    "classificador.add(MaxPooling2D(pool_size=(2,2)))\n",
    "\n",
    "\n",
    "classificador.add(Conv2D(64, (3,3), input_shape = (64, 64, 3), activation = 'relu'))\n",
    "classificador.add(BatchNormalization())\n",
    "classificador.add(MaxPooling2D(pool_size=(2,2)))\n",
    "\n",
    "classificador.add(Flatten())"
   ]
  },
  {
   "cell_type": "markdown",
   "metadata": {},
   "source": [
    "Na definição da Rede Neural, temos:\n",
    "* criação de uma rede sequencial;\n",
    "* camada de convolução, com filtros, kernels, formato das entradas e função de ativação;\n",
    "* camada de BatchNormalization;\n",
    "* camada de MaxPooling2D, com definição do tamanho do pool(janela);\n",
    "* camada flatten."
   ]
  },
  {
   "cell_type": "markdown",
   "metadata": {},
   "source": [
    "#### Criação da Rede Neural densa"
   ]
  },
  {
   "cell_type": "code",
   "execution_count": 3,
   "metadata": {},
   "outputs": [
    {
     "name": "stdout",
     "output_type": "stream",
     "text": [
      "WARNING:tensorflow:From /home/ana/anaconda3/lib/python3.7/site-packages/keras/backend/tensorflow_backend.py:3019: calling dropout (from tensorflow.python.ops.nn_ops) with keep_prob is deprecated and will be removed in a future version.\n",
      "Instructions for updating:\n",
      "Please use `rate` instead of `keep_prob`. Rate should be set to `rate = 1 - keep_prob`.\n"
     ]
    }
   ],
   "source": [
    "classificador.add(Dense(units=128, activation='relu'))\n",
    "classificador.add(Dropout(0.2))\n",
    "classificador.add(Dense(units = 128, activation = 'relu'))\n",
    "classificador.add(Dropout(0.2))\n",
    "classificador.add(Dense(units = 1, activation = 'sigmoid'))\n",
    "\n",
    "classificador.compile(optimizer = 'adam', loss = 'binary_crossentropy',\n",
    "                      metrics = ['accuracy'])"
   ]
  },
  {
   "cell_type": "markdown",
   "metadata": {},
   "source": [
    "Na criação da Rede Neural Densa:\n",
    "* camadas densas, com a quantidade de unidades e a função de ativação;\n",
    "* camadas de Dropout;\n",
    "* camada de densa de saída, com função de ativação;\n",
    "* compilação das camadas, juntamente com seus argumentos."
   ]
  },
  {
   "cell_type": "code",
   "execution_count": 4,
   "metadata": {},
   "outputs": [],
   "source": [
    "gerador_treinamento = ImageDataGenerator(rescale=1./255,\n",
    "                                           rotation_range=7,\n",
    "                                           height_shift_range=0.07,\n",
    "                                           shear_range=0.2,\n",
    "                                           zoom_range=0.2,\n",
    "                                           horizontal_flip=True)\n"
   ]
  },
  {
   "cell_type": "markdown",
   "metadata": {},
   "source": [
    "No ImageDataGenerator:\n",
    "* rescale - fator de reescalonamento;\n",
    "* rotation_range - faixa de graus para rotações aleatórias;\n",
    "* horizontal_flip - inverte aleatoriamente as entradas horizontalmente;\n",
    "* shear_range - intensidade de cisalhamento (ângulo de cisalhamento no sentido anti-horário em graus);\n",
    "* height_shift_range - faixa de mudança de altura;\n",
    "* zoom_range - intervalo para zoom aleatório."
   ]
  },
  {
   "cell_type": "code",
   "execution_count": 5,
   "metadata": {},
   "outputs": [],
   "source": [
    "gerador_teste = ImageDataGenerator(rescale = 1./255)\n"
   ]
  },
  {
   "cell_type": "markdown",
   "metadata": {},
   "source": [
    "#### Leitura da base de dados de treinamento"
   ]
  },
  {
   "cell_type": "code",
   "execution_count": 9,
   "metadata": {},
   "outputs": [
    {
     "name": "stdout",
     "output_type": "stream",
     "text": [
      "Found 1148 images belonging to 2 classes.\n"
     ]
    }
   ],
   "source": [
    "base_treinamento = gerador_treinamento.flow_from_directory('BreaKHis 400X/train',\n",
    "                                                           target_size = (64,64),\n",
    "                                                           batch_size = 16,\n",
    "                                                           class_mode = 'binary')"
   ]
  },
  {
   "cell_type": "markdown",
   "metadata": {},
   "source": [
    "#### Leitura da base de dados de teste"
   ]
  },
  {
   "cell_type": "code",
   "execution_count": 10,
   "metadata": {},
   "outputs": [
    {
     "name": "stdout",
     "output_type": "stream",
     "text": [
      "Found 545 images belonging to 2 classes.\n"
     ]
    }
   ],
   "source": [
    "base_test = gerador_teste.flow_from_directory('BreaKHis 400X/test',\n",
    "                                              target_size = (64,64),\n",
    "                                              batch_size = 16,\n",
    "                                              class_mode = 'binary')"
   ]
  },
  {
   "cell_type": "markdown",
   "metadata": {},
   "source": [
    "#### Treinamento da rede"
   ]
  },
  {
   "cell_type": "markdown",
   "metadata": {},
   "source": [
    "Treinamento da rede, com:\n",
    "\n",
    "* **steps_per_epoch** - número total de etapas (lotes de amostras) para gerar do gerador antes de declarar que uma época terminou e iniciar a próxima época;\n",
    "* **epochs** - iterações para ajuste dos pesos;\n",
    "* **validation_data** - conjunto de validação dos dados;\n",
    "* **validation_steps** - especifica o número total de etapas tomadas a partir do gerador antes de ser interrompido em cada época e seu valor é calculado como o número total de pontos de dados de validação;"
   ]
  },
  {
   "cell_type": "code",
   "execution_count": 13,
   "metadata": {},
   "outputs": [
    {
     "name": "stdout",
     "output_type": "stream",
     "text": [
      "Epoch 1/5\n",
      "1693/1693 [==============================] - 1112s 657ms/step - loss: 0.1913 - acc: 0.9246 - val_loss: 0.9677 - val_acc: 0.8277\n",
      "Epoch 2/5\n",
      "1693/1693 [==============================] - 1004s 593ms/step - loss: 0.1363 - acc: 0.9461 - val_loss: 0.6397 - val_acc: 0.8018\n",
      "Epoch 3/5\n",
      "1693/1693 [==============================] - 797s 471ms/step - loss: 0.1184 - acc: 0.9545 - val_loss: 0.5931 - val_acc: 0.7999\n",
      "Epoch 4/5\n",
      "1693/1693 [==============================] - 796s 470ms/step - loss: 0.0935 - acc: 0.9660 - val_loss: 1.2702 - val_acc: 0.8020\n",
      "Epoch 5/5\n",
      "1693/1693 [==============================] - 796s 470ms/step - loss: 0.0795 - acc: 0.9724 - val_loss: 1.6310 - val_acc: 0.7781\n"
     ]
    },
    {
     "data": {
      "text/plain": [
       "<keras.callbacks.History at 0x7f8da62fc898>"
      ]
     },
     "execution_count": 13,
     "metadata": {},
     "output_type": "execute_result"
    }
   ],
   "source": [
    "classificador.fit_generator(base_treinamento, steps_per_epoch = 1693,\n",
    "                            epochs = 5, validation_data = base_test,\n",
    "                            validation_steps = 1693)"
   ]
  },
  {
   "cell_type": "code",
   "execution_count": 43,
   "metadata": {},
   "outputs": [],
   "source": [
    "steps = np.math.ceil(base_test.samples / base_test.batch_size)"
   ]
  },
  {
   "cell_type": "code",
   "execution_count": 44,
   "metadata": {},
   "outputs": [],
   "source": [
    "predicoes = classificador.predict_generator(base_test, steps=steps)"
   ]
  },
  {
   "cell_type": "code",
   "execution_count": 45,
   "metadata": {},
   "outputs": [],
   "source": [
    "predicao_classes = np.argmax(predicoes, axis=1)"
   ]
  },
  {
   "cell_type": "code",
   "execution_count": 46,
   "metadata": {},
   "outputs": [],
   "source": [
    "X_classes = base_test.classes\n"
   ]
  },
  {
   "cell_type": "code",
   "execution_count": 47,
   "metadata": {},
   "outputs": [],
   "source": [
    "classes_rotuladas = list(base_test.class_indices.keys())   "
   ]
  },
  {
   "cell_type": "code",
   "execution_count": 48,
   "metadata": {},
   "outputs": [
    {
     "name": "stdout",
     "output_type": "stream",
     "text": [
      "              precision    recall  f1-score   support\n",
      "\n",
      "      benign       0.32      1.00      0.49       176\n",
      "   malignant       0.00      0.00      0.00       369\n",
      "\n",
      "   micro avg       0.32      0.32      0.32       545\n",
      "   macro avg       0.16      0.50      0.24       545\n",
      "weighted avg       0.10      0.32      0.16       545\n",
      "\n"
     ]
    },
    {
     "name": "stderr",
     "output_type": "stream",
     "text": [
      "/home/ana/anaconda3/lib/python3.7/site-packages/sklearn/metrics/classification.py:1143: UndefinedMetricWarning: Precision and F-score are ill-defined and being set to 0.0 in labels with no predicted samples.\n",
      "  'precision', 'predicted', average, warn_for)\n"
     ]
    }
   ],
   "source": [
    "report = metrics.classification_report(X_classes, predicao_classes, target_names=classes_rotuladas)\n",
    "print(report)    "
   ]
  },
  {
   "cell_type": "markdown",
   "metadata": {},
   "source": [
    "### Fontes\n",
    "https://www.inca.gov.br/tipos-de-cancer/cancer-de-mama <br>\n",
    "https://www.kaggle.com/forderation/breakhis-400x <br>\n",
    "https://pt.wikipedia.org/wiki/Histopatologia"
   ]
  },
  {
   "cell_type": "code",
   "execution_count": null,
   "metadata": {},
   "outputs": [],
   "source": []
  }
 ],
 "metadata": {
  "kernelspec": {
   "display_name": "Python 3",
   "language": "python",
   "name": "python3"
  },
  "language_info": {
   "codemirror_mode": {
    "name": "ipython",
    "version": 3
   },
   "file_extension": ".py",
   "mimetype": "text/x-python",
   "name": "python",
   "nbconvert_exporter": "python",
   "pygments_lexer": "ipython3",
   "version": "3.7.3"
  }
 },
 "nbformat": 4,
 "nbformat_minor": 2
}
